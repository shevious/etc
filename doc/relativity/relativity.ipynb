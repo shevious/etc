{
  "nbformat": 4,
  "nbformat_minor": 0,
  "metadata": {
    "colab": {
      "name": "relativity.ipynb",
      "provenance": [],
      "authorship_tag": "ABX9TyP5+vIO5CgfeG2G9uvxTUc0",
      "include_colab_link": true
    },
    "kernelspec": {
      "name": "python3",
      "display_name": "Python 3"
    },
    "language_info": {
      "name": "python"
    }
  },
  "cells": [
    {
      "cell_type": "markdown",
      "metadata": {
        "id": "view-in-github",
        "colab_type": "text"
      },
      "source": [
        "<a href=\"https://colab.research.google.com/github/shevious/etc/blob/master/doc/relativity/relativity.ipynb\" target=\"_parent\"><img src=\"https://colab.research.google.com/assets/colab-badge.svg\" alt=\"Open In Colab\"/></a>"
      ]
    },
    {
      "cell_type": "markdown",
      "source": [
        "# Ref  \n",
        "\n",
        "## General Relativity\n",
        "\n",
        "Carrol - Spacetime and Geometry An Introduction to General Relativity [^Carroll14]  \n",
        "Hartle - Gravity: An Introduction to Einstein’s General Relativity [^Hartle21]  \n",
        "Schutz - A First Course in General Relativity [^Schutz09]  \n",
        "\n",
        "[^Carroll14]: Good textbook for general relativity  \n",
        "[^Hartle21]: Easy and a lot of good examples  \n",
        "[^Schutz09]: Good introduction and derivations  \n",
        "\n",
        "## Special Relativity  \n",
        "\n",
        "Wolfgang Rindler - Introduction to Special Relativity [^Rindler85]  \n",
        "\n",
        "[^Rindler85]: Derivation of Lorentz transformation  \n",
        "\n",
        "\n",
        "\n"
      ],
      "metadata": {
        "id": "45Xxzu5dHIYG"
      }
    }
  ]
}