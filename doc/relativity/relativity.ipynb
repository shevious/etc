{
  "nbformat": 4,
  "nbformat_minor": 0,
  "metadata": {
    "colab": {
      "name": "relativity.ipynb",
      "provenance": [],
      "authorship_tag": "ABX9TyO+ol+ip05ESfnGckZobM7m",
      "include_colab_link": true
    },
    "kernelspec": {
      "name": "python3",
      "display_name": "Python 3"
    },
    "language_info": {
      "name": "python"
    }
  },
  "cells": [
    {
      "cell_type": "markdown",
      "metadata": {
        "id": "view-in-github",
        "colab_type": "text"
      },
      "source": [
        "<a href=\"https://colab.research.google.com/github/shevious/etc/blob/master/doc/relativity/relativity.ipynb\" target=\"_parent\"><img src=\"https://colab.research.google.com/assets/colab-badge.svg\" alt=\"Open In Colab\"/></a>"
      ]
    },
    {
      "cell_type": "markdown",
      "source": [
        "# Ref  \n",
        "\n",
        "## General Relativity\n",
        "\n",
        "Carrol - Spacetime and Geometry An Introduction to General Relativity [^Carroll14]  \n",
        "Hartle - Gravity: An Introduction to Einstein’s General Relativity [^Hartle21]  \n",
        "Schutz - A First Course in General Relativity [^Schutz09]  \n",
        "MIT lecture - https://youtube.com/playlist?list=PLUl4u3cNGP629n_3fX7HmKKgin_rqGzbx  \n",
        "Needham - Visual Differential Geometry and Forms A Mathematical Drama in Five Acts [^Needham21]  \n",
        "\n",
        "[^Carroll14]: Good textbook for general relativity  \n",
        "[^Hartle21]: Easy and a lot of good examples  \n",
        "[^Schutz09]: Good introduction and derivations  \n",
        "[^Needham21]: Visual differential geometry  \n",
        "\n",
        "## Special Relativity  \n",
        "\n",
        "Bais Very Special Relativity - An Illustrated Guide [^Bais]\n",
        "\n",
        "Wolfgang Rindler - Introduction to Special Relativity [^Rindler85]  \n",
        "\n",
        "[^Bais07]: Space-time diagram illustrated  \n",
        "[^Rindler85]: Derivation of Lorentz transformation  \n",
        "\n",
        "\n",
        "\n"
      ],
      "metadata": {
        "id": "45Xxzu5dHIYG"
      }
    },
    {
      "cell_type": "markdown",
      "source": [
        "# Lorentz transformation"
      ],
      "metadata": {
        "id": "PyjihYndLJUf"
      }
    },
    {
      "cell_type": "markdown",
      "source": [
        "## Invariant distance (proper distance)  \n",
        "\n",
        "From the law of velocity of light, the observer in $S$ will find the two infinitesimal event by light that $(dx^2+dy^2+dz^2)^{1/2} = dt $, or $$\n",
        "-dt^2 + dx^2+dy^2+dz^2=0, \\ dt>0.\n",
        "$$ The observer in $S'$ will get $$\n",
        "-dt'^2 + dx'^2+dy'^2+dz'^2=0, \\ dt'>0.\n",
        "$$  What about any infinitesimal events? $$\n",
        "-dt^2 + dx^2+dy^2+dz^2 = -dt'^2 + dx'^2+dy'^2+dz'^2\\tag{6.6}\n",
        "$$ The relation (6.6) can be satisfied?  \n",
        "The coordinate transform is linear. $$\n",
        "dx'^\\mu=\\sum_\\nu{\\partial x'^\\mu\\over\\partial x^\\nu}dx^\\nu\\tag{6.7}\n",
        "$$ We can construct general quadratic polynormial $P$ as $$\n",
        "P = aT^2+bX^2+cY^2+dZ^2+iXT+jYT+kZT+lXY+mYZ+nZX.\n",
        "$$ The polynomial $P$ should be zero whenever $Q$ is zero. $$\n",
        "Q = -T^2+X^2+Y^2+Z^2\n",
        "$$  \n",
        "For $(T,X,Y,Z)=(\\pm1,1,0,0)$, $i=0$ and $a+b=0$.  \n",
        "Similarly, $j=0, k=0, a+c=0, a+d=0$.  \n",
        "For $(\\sqrt{2},0,1,1)$, $m=0$. Similarly, $l=0, n=0$. Thus, $$\n",
        "P = -a(-T^2+X^2+Y^2+Z^2) = -aQ.\n",
        "$$\n",
        "Using (6.7) we get $$\n",
        "-dt'^2+dx'^2+dy'^2+dz'^2 = -a(-dt^2+dx^2+dy^2+dz^2).\n",
        "$$ The $S$ and $S'$ are just labels. If we interchange the labels, the law of physics is invariant by the principles of relativity. Thus, $$\n",
        "-dt^2+dx^2+dy^2+dz^2 = -a(-dt'^2+dx'^2+dy'^2+dz'^2).\n",
        "$$ Therefore $a=\\pm 1$. When $v\\to0$, the polynomial should be identical, thus $a=-1$ or $$\n",
        "ds^2\\equiv-dt^2+dx^2+dy^2+dz^2 = -dt'^2+dx'^2+dy'^2+dz'^2\\equiv ds'^2\n",
        "$$\n",
        "\n",
        "Ref: [^1]\n",
        "\n",
        "[^1]: Rindler85\n"
      ],
      "metadata": {
        "id": "qJ89ilxRLTOw"
      }
    },
    {
      "cell_type": "markdown",
      "source": [
        "## Lorentz transformation\n",
        "\n",
        "The linearity condition:  \n",
        "$$\n",
        "\\begin{gather}\n",
        "t' = \\alpha t+\\beta x\\\\\n",
        "x' = \\gamma t+\\sigma x\n",
        "\\end{gather}\n",
        "$$\n",
        "\n",
        "$x'=0$ means $x=vt$, or $\\gamma=-\\sigma v$. \n",
        "$t'=0$ means $t=vx$. Why? See the figure 1.4 of Schutz. [^2]  \n",
        "We get $\\beta=-\\alpha v$. Thus $$\n",
        "\\begin{gather}\n",
        "t' = \\alpha (t-v x)\\\\\n",
        "x' = \\sigma (-vt+x)\n",
        "\\end{gather}\n",
        "$$\n",
        "From the $t'=0, x'=a$ condition and $t'=a, x'=0$ condition, $\\sigma=\\alpha$ or $$\n",
        "\\begin{gather}\n",
        "t' = \\alpha (t-v x)\\\\\n",
        "x' = \\alpha (-vt+x)\n",
        "\\end{gather}\n",
        "$$\n",
        "From the invariance of the interval $ds^2=ds'^2$, $$\n",
        "\\alpha=\\pm{1\\over\\sqrt{1-v^2}}. \n",
        "$$ We must reject $-$ sign with identical transformation for $v=0$. \n",
        "\n",
        "[^2]: Schutz09"
      ],
      "metadata": {
        "id": "Eee7VzVOX3rl"
      }
    },
    {
      "cell_type": "markdown",
      "source": [
        "## Curved surface  \n",
        "\n",
        "**Angle sum of trangle** [^1]  \n",
        "\n",
        "$$\n",
        "\\text{Angle sum of tranlge}-\\pi={A\\over r^2}\n",
        "$$\n",
        "\n",
        "Proof - Needham [^2]  \n",
        "\n",
        "[^1]: Hartle21  \n",
        "[^2]: Needham21  \n",
        "\n",
        "\n"
      ],
      "metadata": {
        "id": "bIqiIuSItsgA"
      }
    }
  ]
}